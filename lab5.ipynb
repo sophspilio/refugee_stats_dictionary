{
  "nbformat": 4,
  "nbformat_minor": 0,
  "metadata": {
    "colab": {
      "name": "lab5.ipynb",
      "provenance": [],
      "collapsed_sections": [],
      "authorship_tag": "ABX9TyORjPQLKWggfSglx12+9/04",
      "include_colab_link": true
    },
    "kernelspec": {
      "name": "python3",
      "display_name": "Python 3"
    }
  },
  "cells": [
    {
      "cell_type": "markdown",
      "metadata": {
        "id": "view-in-github",
        "colab_type": "text"
      },
      "source": [
        "<a href=\"https://colab.research.google.com/github/IDCE-MSGIS/lab-5-refugee-stats-using-dictionaries-sophspilio/blob/master/lab5.ipynb\" target=\"_parent\"><img src=\"https://colab.research.google.com/assets/colab-badge.svg\" alt=\"Open In Colab\"/></a>"
      ]
    },
    {
      "cell_type": "code",
      "metadata": {
        "id": "hY65lGxqqySM",
        "outputId": "b3c7c9ea-481b-4418-c482-4f8b3010a2a6",
        "colab": {
          "base_uri": "https://localhost:8080/",
          "height": 272
        }
      },
      "source": [
        "'''\n",
        "Sophie Spiliotopoulos\n",
        "Sept 25, 2020\n",
        "Python 3.6\n",
        "Creating a dictionary with refugee populations\n",
        "'''\n",
        "#added all the refugee camp populations for a country\n",
        "refcamps14 = {'Burkina Faso':20356,'Kenya':506508,'Yemen':16500,'Malawi': 5874,'Thailand':122349 } #creating a dictionary with refugee camp populations for 2014\n",
        "\n",
        "def countryofcamp (campdict):  #function to print out names of countries \n",
        " for key in campdict.keys(): #for loop to traverse dictionary for keys\n",
        "   print(key)\n",
        "countryofcamp(refcamps14)\n",
        "\n",
        "def popofrefugees(campdict): #function to print out population of refugees in each country\n",
        "  for value in campdict.values(): #for loop to traverse dictionary for values\n",
        "    print(value)\n",
        "popofrefugees(refcamps14)\n",
        "\n",
        "for key,value in refcamps14.items(): #print out each country name and its population of refugees\n",
        "  print(key, 'has', value, 'refugees')\n",
        "\n",
        "\n"
      ],
      "execution_count": 1,
      "outputs": [
        {
          "output_type": "stream",
          "text": [
            "Burkina Faso\n",
            "Kenya\n",
            "Yemen\n",
            "Malawi\n",
            "Thailand\n",
            "20356\n",
            "506508\n",
            "16500\n",
            "5874\n",
            "122349\n",
            "Burkina Faso has 20356 refugees\n",
            "Kenya has 506508 refugees\n",
            "Yemen has 16500 refugees\n",
            "Malawi has 5874 refugees\n",
            "Thailand has 122349 refugees\n"
          ],
          "name": "stdout"
        }
      ]
    }
  ]
}